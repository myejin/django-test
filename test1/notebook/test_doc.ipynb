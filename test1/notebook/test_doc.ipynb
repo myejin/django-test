{
 "cells": [
  {
   "cell_type": "code",
   "execution_count": 7,
   "id": "5e03e872",
   "metadata": {},
   "outputs": [
    {
     "name": "stdout",
     "output_type": "stream",
     "text": [
      "/Users/ella/Dev/django-test\n"
     ]
    }
   ],
   "source": [
    "cd /Users/ella/Dev/django-test"
   ]
  },
  {
   "cell_type": "code",
   "execution_count": 27,
   "id": "87bcc707",
   "metadata": {
    "scrolled": false
   },
   "outputs": [
    {
     "name": "stdout",
     "output_type": "stream",
     "text": [
      "\u001b[1m\u001b[36mconfig\u001b[m\u001b[m/     db.sqlite3  \u001b[31mmanage.py\u001b[m\u001b[m*  \u001b[1m\u001b[36mtest1\u001b[m\u001b[m/      \u001b[1m\u001b[36mvenv\u001b[m\u001b[m/\r\n"
     ]
    }
   ],
   "source": [
    "ls"
   ]
  },
  {
   "cell_type": "code",
   "execution_count": 10,
   "id": "3b0fb6ca",
   "metadata": {},
   "outputs": [],
   "source": [
    "import os \n",
    "\n",
    "os.environ[\"DJANGO_ALLOW_ASYNC_UNSAFE\"] = \"true\""
   ]
  },
  {
   "cell_type": "code",
   "execution_count": 29,
   "id": "a683e5cb",
   "metadata": {},
   "outputs": [
    {
     "data": {
      "text/plain": [
       "(0, {})"
      ]
     },
     "execution_count": 29,
     "metadata": {},
     "output_type": "execute_result"
    }
   ],
   "source": [
    "# 데이터 지운다. \n",
    "Document.objects.all().delete()\n",
    "Fund.objects.all().delete()\n",
    "BankAccount.objects.all().delete() "
   ]
  },
  {
   "cell_type": "code",
   "execution_count": 30,
   "id": "3b804632",
   "metadata": {},
   "outputs": [],
   "source": [
    "doc1 = Document.objects.create(name=\"문서1\")\n",
    "doc2 = Document.objects.create(name=\"문서2\")\n",
    "doc3 = Document.objects.create(name=\"문서3\")\n",
    "\n",
    "fund = Fund.objects.create(name=\"모두상생1호\")\n",
    "\n",
    "bank_account1 = BankAccount.objects.create(fund=fund, account_number=\"123-12\", account_bank='H')\n",
    "bank_account2 = BankAccount.objects.create(fund=fund, account_number=\"457-35\", account_bank='K')"
   ]
  },
  {
   "cell_type": "code",
   "execution_count": 31,
   "id": "0e2c9860",
   "metadata": {},
   "outputs": [
    {
     "name": "stdout",
     "output_type": "stream",
     "text": [
      "<QuerySet [<Document: Document object (22)>, <Document: Document object (23)>, <Document: Document object (24)>]>\n",
      "<QuerySet [<Fund: Fund object (4)>]>\n",
      "<QuerySet [<BankAccount: BankAccount object (7)>, <BankAccount: BankAccount object (8)>]>\n"
     ]
    }
   ],
   "source": [
    "doc = Document.objects.all()\n",
    "print(doc)\n",
    "fund = Fund.objects.all()\n",
    "print(fund)\n",
    "bank_account = BankAccount.objects.all() \n",
    "print(bank_account)"
   ]
  },
  {
   "cell_type": "code",
   "execution_count": 32,
   "id": "917aa9a1",
   "metadata": {},
   "outputs": [
    {
     "data": {
      "text/plain": [
       "{'name': '모두상생2호',\n",
       " 'doc_fund_registration': [19],\n",
       " 'doc_etc': [21],\n",
       " 'bank_accounts': [{'account_number': '1230021', 'account_bank': 'K'}]}"
      ]
     },
     "execution_count": 32,
     "metadata": {},
     "output_type": "execute_result"
    }
   ],
   "source": [
    "# PUT localhost:8000/test1/fund/3\n",
    "\n",
    "{\n",
    "    \"name\": \"모두상생2호\",\n",
    "    \"doc_fund_registration\": [19],\n",
    "    \"doc_etc\": [21],\n",
    "    \"bank_accounts\": [\n",
    "        {\n",
    "            \"account_number\": \"1230021\",\n",
    "            \"account_bank\": \"K\"\n",
    "        }\n",
    "    ]\n",
    "}"
   ]
  },
  {
   "cell_type": "code",
   "execution_count": null,
   "id": "54961973",
   "metadata": {},
   "outputs": [],
   "source": []
  }
 ],
 "metadata": {
  "kernelspec": {
   "display_name": "Django Shell-Plus",
   "language": "python",
   "name": "django_extensions"
  },
  "language_info": {
   "codemirror_mode": {
    "name": "ipython",
    "version": 3
   },
   "file_extension": ".py",
   "mimetype": "text/x-python",
   "name": "python",
   "nbconvert_exporter": "python",
   "pygments_lexer": "ipython3",
   "version": "3.9.10"
  }
 },
 "nbformat": 4,
 "nbformat_minor": 5
}
